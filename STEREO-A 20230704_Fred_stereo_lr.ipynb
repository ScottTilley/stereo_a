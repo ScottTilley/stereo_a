{
 "cells": [
  {
   "cell_type": "code",
   "execution_count": 1,
   "metadata": {},
   "outputs": [],
   "source": [
    "%matplotlib inline\n",
    "import numpy as np\n",
    "import matplotlib.pyplot as plt\n",
    "import matplotlib.dates as mdates\n",
    "\n",
    "from construct import *\n",
    "\n",
    "import sys\n",
    "sys.path.append('/home/scott/Dropbox/satobs/STEREO_A/')\n",
    "import ccsds\n",
    "\n",
    "import collections\n",
    "import datetime\n",
    "import struct\n",
    "\n",
    "plt.rcParams['figure.figsize'] = (14, 7)\n",
    "plt.rcParams['figure.facecolor'] = 'w'"
   ]
  },
  {
   "cell_type": "code",
   "execution_count": 2,
   "metadata": {},
   "outputs": [
    {
     "ename": "FileNotFoundError",
     "evalue": "[Errno 2] No such file or directory: '/media/scott/fast/img/20230630a/stereo_lr.cadu'",
     "output_type": "error",
     "traceback": [
      "\u001b[0;31m---------------------------------------------------------------------------\u001b[0m",
      "\u001b[0;31mFileNotFoundError\u001b[0m                         Traceback (most recent call last)",
      "\u001b[0;32m<ipython-input-2-0c40f49e4395>\u001b[0m in \u001b[0;36m<module>\u001b[0;34m\u001b[0m\n\u001b[1;32m     19\u001b[0m \u001b[0;31m#stripped output file compatible with the script below\u001b[0m\u001b[0;34m\u001b[0m\u001b[0;34m\u001b[0m\u001b[0;34m\u001b[0m\u001b[0m\n\u001b[1;32m     20\u001b[0m \u001b[0moutput_filename\u001b[0m \u001b[0;34m=\u001b[0m \u001b[0;34m'output_frames.bin'\u001b[0m\u001b[0;34m\u001b[0m\u001b[0;34m\u001b[0m\u001b[0m\n\u001b[0;32m---> 21\u001b[0;31m \u001b[0mprocess_frames\u001b[0m\u001b[0;34m(\u001b[0m\u001b[0minput_filename\u001b[0m\u001b[0;34m,\u001b[0m \u001b[0moutput_filename\u001b[0m\u001b[0;34m)\u001b[0m\u001b[0;34m\u001b[0m\u001b[0;34m\u001b[0m\u001b[0m\n\u001b[0m",
      "\u001b[0;32m<ipython-input-2-0c40f49e4395>\u001b[0m in \u001b[0;36mprocess_frames\u001b[0;34m(input_file, output_file)\u001b[0m\n\u001b[1;32m      4\u001b[0m     \u001b[0mbits_to_remove\u001b[0m \u001b[0;34m=\u001b[0m \u001b[0;36m32\u001b[0m\u001b[0;34m\u001b[0m\u001b[0;34m\u001b[0m\u001b[0m\n\u001b[1;32m      5\u001b[0m \u001b[0;34m\u001b[0m\u001b[0m\n\u001b[0;32m----> 6\u001b[0;31m     \u001b[0;32mwith\u001b[0m \u001b[0mopen\u001b[0m\u001b[0;34m(\u001b[0m\u001b[0minput_file\u001b[0m\u001b[0;34m,\u001b[0m \u001b[0;34m'rb'\u001b[0m\u001b[0;34m)\u001b[0m \u001b[0;32mas\u001b[0m \u001b[0mf_in\u001b[0m\u001b[0;34m,\u001b[0m \u001b[0mopen\u001b[0m\u001b[0;34m(\u001b[0m\u001b[0moutput_file\u001b[0m\u001b[0;34m,\u001b[0m \u001b[0;34m'wb'\u001b[0m\u001b[0;34m)\u001b[0m \u001b[0;32mas\u001b[0m \u001b[0mf_out\u001b[0m\u001b[0;34m:\u001b[0m\u001b[0;34m\u001b[0m\u001b[0;34m\u001b[0m\u001b[0m\n\u001b[0m\u001b[1;32m      7\u001b[0m         \u001b[0;32mwhile\u001b[0m \u001b[0;32mTrue\u001b[0m\u001b[0;34m:\u001b[0m\u001b[0;34m\u001b[0m\u001b[0;34m\u001b[0m\u001b[0m\n\u001b[1;32m      8\u001b[0m             \u001b[0mframe\u001b[0m \u001b[0;34m=\u001b[0m \u001b[0mf_in\u001b[0m\u001b[0;34m.\u001b[0m\u001b[0mread\u001b[0m\u001b[0;34m(\u001b[0m\u001b[0mframe_length\u001b[0m \u001b[0;34m//\u001b[0m \u001b[0;36m8\u001b[0m\u001b[0;34m)\u001b[0m  \u001b[0;31m# Read frame in bytes\u001b[0m\u001b[0;34m\u001b[0m\u001b[0;34m\u001b[0m\u001b[0m\n",
      "\u001b[0;31mFileNotFoundError\u001b[0m: [Errno 2] No such file or directory: '/media/scott/fast/img/20230630a/stereo_lr.cadu'"
     ]
    }
   ],
   "source": [
    "def process_frames(input_file, output_file):\n",
    "    frame_length = 8952\n",
    "    new_frame_length = 8920\n",
    "    bits_to_remove = 32\n",
    "\n",
    "    with open(input_file, 'rb') as f_in, open(output_file, 'wb') as f_out:\n",
    "        while True:\n",
    "            frame = f_in.read(frame_length // 8)  # Read frame in bytes\n",
    "            if not frame:  # Reached end of file\n",
    "                break\n",
    "            new_frame = frame[bits_to_remove // 8:]  # Remove first 32 bits\n",
    "            f_out.write(new_frame)\n",
    "\n",
    "    print(f\"Processed {input_file}. New file saved as {output_file}.\")\n",
    "\n",
    "#satdump .cadu filename\n",
    "input_filename = '/media/scott/fast/img/20230630a/stereo_lr.cadu'\n",
    "\n",
    "#stripped output file compatible with the script below\n",
    "output_filename = 'output_frames.bin'\n",
    "process_frames(input_filename, output_filename)\n"
   ]
  },
  {
   "cell_type": "code",
   "execution_count": null,
   "metadata": {},
   "outputs": [],
   "source": [
    "def load_frames(file):\n",
    "    frame_size = 223 * 5\n",
    "    frames = np.fromfile(file, dtype = 'uint8')\n",
    "    return frames[:frames.size//frame_size*frame_size].reshape(-1, frame_size)\n",
    "\n",
    "#frames = load_frames('stereo-a_bg2bhc_frames_20220924_0710.raw')\n",
    "#frames = load_frames('stereo-a_bg2bhc_frames_20220924_1035.raw')\n",
    "frames = load_frames('output_frames.bin')"
   ]
  },
  {
   "cell_type": "markdown",
   "metadata": {},
   "source": [
    "## TM Primary Headers\n",
    "\n",
    "The frames are TM Space Data Link frames. The spacecraft ID is 234 (0xEA). Virtual channels 0 and 7 are in use. OCF and secondary headers are used."
   ]
  },
  {
   "cell_type": "code",
   "execution_count": null,
   "metadata": {},
   "outputs": [],
   "source": [
    "TMPrimaryHeader = BitStruct(\n",
    "    'transfer_frame_version_number' / BitsInteger(2),\n",
    "    'spacecraft_id' / BitsInteger(10),\n",
    "    'virtual_channel_id' / BitsInteger(3),\n",
    "    'ocf_flag' / Flag,\n",
    "    'master_channel_frame_count' / BitsInteger(8),\n",
    "    'virtual_channel_frame_count' / BitsInteger(8),\n",
    "    'secondary_header_flag' / Flag,\n",
    "    'synch_flag' / Flag,\n",
    "    'packet_order_flag' / Flag,\n",
    "    'segment_length_id' / BitsInteger(2),\n",
    "    'first_header_pointer' / BitsInteger(11)\n",
    ")\n",
    "\n",
    "TransferFrameSecondaryHeaderId = BitStruct(\n",
    "    'version_number' / BitsInteger(2),\n",
    "    'header_length' / BitsInteger(6)\n",
    ")\n",
    "\n",
    "CLCW = BitStruct(\n",
    "    'control_word_type' / Flag,\n",
    "    'clcw_version_number' / BitsInteger(2),\n",
    "    'status_field' / BitsInteger(3),\n",
    "    'cop_in_effect' / BitsInteger(2),\n",
    "    'virtual_channel_identification' / BitsInteger(6),\n",
    "    'rsvd_spare' / BitsInteger(2),\n",
    "    'no_rf_avail' / Flag,\n",
    "    'no_bit_lock' / Flag,\n",
    "    'lock_out' / Flag,\n",
    "    'wait' / Flag,\n",
    "    'retransmit' / Flag,\n",
    "    'farm_b_counter' / BitsInteger(2),\n",
    "    'rsvd_spare2' / BitsInteger(1),\n",
    "    'report_value' / BitsInteger(8)\n",
    ")"
   ]
  },
  {
   "cell_type": "code",
   "execution_count": null,
   "metadata": {},
   "outputs": [],
   "source": [
    "tm = [TMPrimaryHeader.parse(f) for f in frames]\n",
    "scid = np.array([h.spacecraft_id for h in tm])\n",
    "vcid = np.array([h.virtual_channel_id for h in tm])\n",
    "v_framecount = np.array([h.virtual_channel_frame_count for h in tm])\n",
    "m_framecount = np.array([h.master_channel_frame_count for h in tm])"
   ]
  },
  {
   "cell_type": "code",
   "execution_count": null,
   "metadata": {},
   "outputs": [],
   "source": [
    "tm[:5]"
   ]
  },
  {
   "cell_type": "code",
   "execution_count": null,
   "metadata": {},
   "outputs": [],
   "source": [
    "collections.Counter(scid)"
   ]
  },
  {
   "cell_type": "code",
   "execution_count": null,
   "metadata": {},
   "outputs": [],
   "source": [
    "collections.Counter(vcid)"
   ]
  },
  {
   "cell_type": "code",
   "execution_count": null,
   "metadata": {},
   "outputs": [],
   "source": [
    "plt.plot(np.diff(m_framecount) - 1, '.-')\n",
    "plt.title('Frame loss (using master channel frame counter)')\n",
    "plt.ylabel('Frame loss')\n",
    "plt.xlabel('Frame number');"
   ]
  },
  {
   "cell_type": "markdown",
   "metadata": {},
   "source": [
    "## TM Secondary Header\n",
    "\n",
    "The TM Secondary Header contains a timestamp giving the seconds since 2006-10-25 12:00 UTC as a 32-bit integer, plus an additional 8-bit integer that counts 1/256-ths of a second. The remaining 9 bytes of the header are filled with `0x00` in the virtual channel 7 frames and with `0xff` in the virtual channel 0 frames."
   ]
  },
  {
   "cell_type": "code",
   "execution_count": null,
   "metadata": {},
   "outputs": [],
   "source": [
    "sec_header_id = [TransferFrameSecondaryHeaderId.parse(f[TMPrimaryHeader.sizeof():])\n",
    "                 for f in frames]\n",
    "all([sec_header_id[0] == h for h in sec_header_id])"
   ]
  },
  {
   "cell_type": "code",
   "execution_count": null,
   "metadata": {},
   "outputs": [],
   "source": [
    "sec_header_id[0]"
   ]
  },
  {
   "cell_type": "code",
   "execution_count": null,
   "metadata": {},
   "outputs": [],
   "source": [
    "plt.figure(figsize=(6, 6))\n",
    "plt.imshow(frames[:, 6:6+15], interpolation='none', aspect='auto')\n",
    "plt.title('TM Secondary Header bytes');"
   ]
  },
  {
   "cell_type": "code",
   "execution_count": null,
   "metadata": {},
   "outputs": [],
   "source": [
    "np.all(frames[vcid != 0, 12:6+15] == 0)"
   ]
  },
  {
   "cell_type": "code",
   "execution_count": null,
   "metadata": {},
   "outputs": [],
   "source": [
    "np.all(frames[vcid == 0, 12:6+15] == 0xff)"
   ]
  },
  {
   "cell_type": "code",
   "execution_count": null,
   "metadata": {},
   "outputs": [],
   "source": [
    "#timestamps_secs = (\n",
    "   # frames[:, 7:11].view('uint32').byteswap().ravel().astype('float')+ frames[:, 11].astype('float') / 256)\n",
    "    \n",
    "timestamps_secs = (frames[:, 7:11].copy().view('uint32').byteswap().ravel().astype('float')+ frames[:, 11].astype('float') / 256)\n"
   ]
  },
  {
   "cell_type": "code",
   "execution_count": null,
   "metadata": {},
   "outputs": [],
   "source": [
    "np.diff(timestamps_secs)"
   ]
  },
  {
   "cell_type": "code",
   "execution_count": null,
   "metadata": {},
   "outputs": [],
   "source": [
    "(5*223*8 + 4 + 32) * 6 / 3.8e3"
   ]
  },
  {
   "cell_type": "code",
   "execution_count": null,
   "metadata": {},
   "outputs": [],
   "source": [
    "1/256"
   ]
  },
  {
   "cell_type": "code",
   "execution_count": null,
   "metadata": {},
   "outputs": [],
   "source": [
    "datetime.datetime(2022, 9, 24, 10, 35, 0) - datetime.timedelta(seconds=timestamps_secs[0])"
   ]
  },
  {
   "cell_type": "code",
   "execution_count": null,
   "metadata": {},
   "outputs": [],
   "source": [
    "epoch = np.datetime64('2006-10-25T12:00:00')"
   ]
  },
  {
   "cell_type": "code",
   "execution_count": null,
   "metadata": {},
   "outputs": [],
   "source": [
    "timestamps = epoch + np.timedelta64(1, 'ns') * (timestamps_secs * 1e9)"
   ]
  },
  {
   "cell_type": "code",
   "execution_count": null,
   "metadata": {},
   "outputs": [],
   "source": [
    "timestamps[0]"
   ]
  },
  {
   "cell_type": "code",
   "execution_count": null,
   "metadata": {},
   "outputs": [],
   "source": [
    "plt.plot(m_framecount, timestamps, '.-')\n",
    "plt.title('Secondary header timestamps vs. master channel frame count')\n",
    "plt.xlabel('Master channel frame count')\n",
    "plt.ylabel('Timestamp');"
   ]
  },
  {
   "cell_type": "markdown",
   "metadata": {},
   "source": [
    "## Operational Control Field\n",
    "\n",
    "The operational control field shows receiver lock, event though the frequency of the downlink transmitter changes during the recording (indicating loss of ground lock)."
   ]
  },
  {
   "cell_type": "code",
   "execution_count": null,
   "metadata": {},
   "outputs": [],
   "source": [
    "ocf = frames[:, -6:-2]\n",
    "np.all(ocf == ocf[0])"
   ]
  },
  {
   "cell_type": "code",
   "execution_count": null,
   "metadata": {},
   "outputs": [],
   "source": [
    "print(CLCW.parse(ocf[0]))"
   ]
  },
  {
   "cell_type": "markdown",
   "metadata": {},
   "source": [
    "## Virtual channel 0\n",
    "\n",
    "Frames in virtual channel 0 carry OID (only idle data). The transfer frame data field is filled with `0xff` bytes."
   ]
  },
  {
   "cell_type": "code",
   "execution_count": null,
   "metadata": {},
   "outputs": [],
   "source": [
    "[h for h in tm if h.virtual_channel_id == 0]"
   ]
  },
  {
   "cell_type": "code",
   "execution_count": null,
   "metadata": {},
   "outputs": [],
   "source": [
    "np.all(frames[vcid == 0][:, 12:-6] == 0xff)"
   ]
  },
  {
   "cell_type": "markdown",
   "metadata": {},
   "source": [
    "## Virtual channel 7\n",
    "\n",
    "Frames in virtual channel 7 contain 4 Space Packets with a length of 272 bytes (which divides the transfer frame data field evenly in 4). The Space Packets in the non-idle APIDs have a Secondary Header with a 32-bit timestamp giving the number of seconds since the CCSDS time code epoch 1958-01-01 00:00:00 TAI."
   ]
  },
  {
   "cell_type": "code",
   "execution_count": null,
   "metadata": {},
   "outputs": [],
   "source": [
    "plt.figure(figsize=(8, 8))\n",
    "plt.imshow(frames[vcid == 7, 6+15:-6], interpolation='none', aspect='auto')\n",
    "plt.title('STEREO-A virtual channel 7 transfer frame data field');"
   ]
  },
  {
   "cell_type": "code",
   "execution_count": null,
   "metadata": {},
   "outputs": [],
   "source": [
    "# 265 bytes = Space Packet data length field (indicates length-1)\n",
    "# 6 bytes = Space Packet primary header\n",
    "# 4 Space Packets per TM frame\n",
    "# 6 bytes = TM Primary Header\n",
    "# 15 bytes = TM Secondary Header\n",
    "# 4 bytes = OCF (CLCW)\n",
    "# 2 bytes = FECF (CRC-16)\n",
    "(265 + 1 + 6) * 4 + 6 + 15 + 4 + 2 == frames.shape[1]"
   ]
  },
  {
   "cell_type": "code",
   "execution_count": null,
   "metadata": {},
   "outputs": [],
   "source": [
    "packet_len = 265 + 1 + 6"
   ]
  },
  {
   "cell_type": "code",
   "execution_count": null,
   "metadata": {},
   "outputs": [],
   "source": [
    "packet_headers = [ccsds.SpacePacketPrimaryHeader.parse(f[6+15+k*packet_len:])\n",
    "                  for f in frames[vcid == 7] for k in range(4)]"
   ]
  },
  {
   "cell_type": "code",
   "execution_count": null,
   "metadata": {},
   "outputs": [],
   "source": [
    "packet_headers[:5]"
   ]
  },
  {
   "cell_type": "code",
   "execution_count": null,
   "metadata": {},
   "outputs": [],
   "source": [
    "collections.Counter([h.ccsds_version for h in packet_headers])"
   ]
  },
  {
   "cell_type": "code",
   "execution_count": null,
   "metadata": {},
   "outputs": [],
   "source": [
    "collections.Counter([h.packet_type for h in packet_headers])"
   ]
  },
  {
   "cell_type": "code",
   "execution_count": null,
   "metadata": {},
   "outputs": [],
   "source": [
    "collections.Counter([h.secondary_header_flag for h in packet_headers])"
   ]
  },
  {
   "cell_type": "code",
   "execution_count": null,
   "metadata": {},
   "outputs": [],
   "source": [
    "collections.Counter([h.APID for h in packet_headers])"
   ]
  },
  {
   "cell_type": "code",
   "execution_count": null,
   "metadata": {},
   "outputs": [],
   "source": [
    "apids = {h.APID for h in packet_headers}\n",
    "{apid: collections.Counter([\n",
    "    h.secondary_header_flag\n",
    "    for h in packet_headers if h.APID == apid]) for apid in apids}"
   ]
  },
  {
   "cell_type": "code",
   "execution_count": null,
   "metadata": {},
   "outputs": [],
   "source": [
    "collections.Counter([h.sequence_flags for h in packet_headers])"
   ]
  },
  {
   "cell_type": "code",
   "execution_count": null,
   "metadata": {},
   "outputs": [],
   "source": [
    "collections.Counter([h.data_length for h in packet_headers])"
   ]
  },
  {
   "cell_type": "code",
   "execution_count": null,
   "metadata": {},
   "outputs": [],
   "source": [
    "space_packets = [f[6+15+k*packet_len:][:packet_len]\n",
    "                 for f in frames[vcid == 7] for k in range(4)]\n",
    "by_apid = {apid: [] for apid in apids}\n",
    "for packet, header in zip(space_packets, packet_headers):\n",
    "    by_apid[header.APID].append(packet)\n",
    "by_apid = {apid: np.array(by_apid[apid]) for apid in apids}"
   ]
  },
  {
   "cell_type": "code",
   "execution_count": null,
   "metadata": {
    "scrolled": false
   },
   "outputs": [],
   "source": [
    "for apid in apids:\n",
    "    data = by_apid[apid]\n",
    "    plt.figure(figsize=(8, 8 * data.shape[0] / 100))\n",
    "    plt.imshow(data, interpolation='none', aspect='auto')\n",
    "    plt.title(f'STEREO-A space weather beacon APID {apid}')"
   ]
  },
  {
   "cell_type": "code",
   "execution_count": null,
   "metadata": {},
   "outputs": [],
   "source": [
    "non_idle = [h.APID != 2047 for h in packet_headers]\n",
    "packet_timestamps_secs = np.array(space_packets)[non_idle, 6:10].view('uint32').byteswap().ravel()"
   ]
  },
  {
   "cell_type": "code",
   "execution_count": null,
   "metadata": {},
   "outputs": [],
   "source": [
    "datetime.datetime(2022, 9, 24, 10, 35, 0) - datetime.timedelta(seconds=int(packet_timestamps_secs[0]))"
   ]
  },
  {
   "cell_type": "code",
   "execution_count": null,
   "metadata": {},
   "outputs": [],
   "source": [
    "ccsds_epoch = np.datetime64('1958-01-01T00:00:00')\n",
    "packet_timestamps = ccsds_epoch + np.timedelta64(1, 's') * packet_timestamps_secs\n",
    "packet_timestamps[0]"
   ]
  },
  {
   "cell_type": "code",
   "execution_count": null,
   "metadata": {},
   "outputs": [],
   "source": [
    "apids_for_timestamps = np.array([h.APID for h in packet_headers if h.APID != 2047])\n",
    "tmtimestaps_for_timestamps = np.repeat(timestamps[vcid == 7], 4)[non_idle]"
   ]
  },
  {
   "cell_type": "code",
   "execution_count": null,
   "metadata": {
    "scrolled": false
   },
   "outputs": [],
   "source": [
    "for apid in apids:\n",
    "    sel = apids_for_timestamps == apid\n",
    "    plt.plot(tmtimestaps_for_timestamps[sel], packet_timestamps[sel], '.-',\n",
    "             label=f'APID {apid}')\n",
    "plt.legend()\n",
    "plt.title('Space Packet timestamps versus TM frame timestamps')\n",
    "plt.xlabel('TM frame timestamp')\n",
    "plt.ylabel('Space Packet timestamp');"
   ]
  },
  {
   "cell_type": "code",
   "execution_count": null,
   "metadata": {},
   "outputs": [],
   "source": [
    "plt.imshow(np.array(space_packets)[non_idle, 6:6+16], aspect='auto', interpolation='none');"
   ]
  },
  {
   "cell_type": "code",
   "execution_count": null,
   "metadata": {},
   "outputs": [],
   "source": [
    "plt.imshow(np.array(space_packets)[:, 6:6+16], aspect='auto', interpolation='none');"
   ]
  },
  {
   "cell_type": "markdown",
   "metadata": {},
   "source": [
    "## S/WAVES beacon data"
   ]
  },
  {
   "cell_type": "code",
   "execution_count": null,
   "metadata": {},
   "outputs": [],
   "source": [
    "swaves_data = by_apid[1393][:, 29:29+159]\n",
    "swaves_timestamps = packet_timestamps[apids_for_timestamps == 1393]\n",
    "\n",
    "plt.imshow(swaves_data.T[::-1], aspect='auto', interpolation='none',\n",
    "           extent=[mdates.date2num(swaves_timestamps[0]),\n",
    "                   mdates.date2num(swaves_timestamps[-1]),\n",
    "                   0.125, 16.025,])\n",
    "plt.gca().xaxis_date()\n",
    "plt.colorbar()\n",
    "plt.title('STEREO-A space weather beacon: S/WAVES instrument (APID 1393)\\nVia the Mighty Little Dish (66cm) at VE7TIL')\n",
    "plt.xlabel('Space Packet timestamp')\n",
    "plt.ylabel('Frequency (MHz)');"
   ]
  },
  {
   "cell_type": "code",
   "execution_count": null,
   "metadata": {},
   "outputs": [],
   "source": [
    "swaves_timestamps"
   ]
  },
  {
   "cell_type": "code",
   "execution_count": null,
   "metadata": {},
   "outputs": [],
   "source": [
    "plt.plot(by_apid[1393][:, 26:29]);"
   ]
  },
  {
   "cell_type": "code",
   "execution_count": null,
   "metadata": {},
   "outputs": [],
   "source": [
    "plt.plot(swaves_timestamps, by_apid[1393][:, 10:12].copy().view('uint16').byteswap(), '.-')\n",
    "plt.title('STEREO-A APID 1393 bytes 10 & 11 (uint16)')\n",
    "plt.ylabel('Value')\n",
    "plt.xlabel('Space Packet timestamp')\n"
   ]
  },
  {
   "cell_type": "code",
   "execution_count": null,
   "metadata": {},
   "outputs": [],
   "source": []
  },
  {
   "cell_type": "code",
   "execution_count": null,
   "metadata": {},
   "outputs": [],
   "source": []
  },
  {
   "cell_type": "code",
   "execution_count": null,
   "metadata": {},
   "outputs": [],
   "source": []
  },
  {
   "cell_type": "code",
   "execution_count": null,
   "metadata": {},
   "outputs": [],
   "source": []
  }
 ],
 "metadata": {
  "kernelspec": {
   "display_name": "Python 3",
   "language": "python",
   "name": "python3"
  },
  "language_info": {
   "codemirror_mode": {
    "name": "ipython",
    "version": 3
   },
   "file_extension": ".py",
   "mimetype": "text/x-python",
   "name": "python",
   "nbconvert_exporter": "python",
   "pygments_lexer": "ipython3",
   "version": "3.6.9"
  }
 },
 "nbformat": 4,
 "nbformat_minor": 5
}
